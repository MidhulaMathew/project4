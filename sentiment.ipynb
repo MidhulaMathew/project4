{
  "nbformat": 4,
  "nbformat_minor": 0,
  "metadata": {
    "colab": {
      "provenance": []
    },
    "kernelspec": {
      "name": "python3",
      "display_name": "Python 3"
    },
    "language_info": {
      "name": "python"
    }
  },
  "cells": [
    {
      "cell_type": "code",
      "source": [
        "!pip install azure-ai-textanalytics"
      ],
      "metadata": {
        "colab": {
          "base_uri": "https://localhost:8080/"
        },
        "id": "N21kCwTaaVHj",
        "outputId": "c82f539d-d5c8-4219-86ac-ba3a8fd4af1a"
      },
      "execution_count": null,
      "outputs": [
        {
          "output_type": "stream",
          "name": "stdout",
          "text": [
            "Collecting azure-ai-textanalytics\n",
            "  Downloading azure_ai_textanalytics-5.3.0-py3-none-any.whl (298 kB)\n",
            "\u001b[2K     \u001b[90m━━━━━━━━━━━━━━━━━━━━━━━━━━━━━━━━━━━━━━━━\u001b[0m \u001b[32m298.6/298.6 kB\u001b[0m \u001b[31m4.2 MB/s\u001b[0m eta \u001b[36m0:00:00\u001b[0m\n",
            "\u001b[?25hCollecting azure-core<2.0.0,>=1.24.0 (from azure-ai-textanalytics)\n",
            "  Downloading azure_core-1.30.1-py3-none-any.whl (193 kB)\n",
            "\u001b[2K     \u001b[90m━━━━━━━━━━━━━━━━━━━━━━━━━━━━━━━━━━━━━━━━\u001b[0m \u001b[32m193.4/193.4 kB\u001b[0m \u001b[31m8.2 MB/s\u001b[0m eta \u001b[36m0:00:00\u001b[0m\n",
            "\u001b[?25hCollecting azure-common~=1.1 (from azure-ai-textanalytics)\n",
            "  Downloading azure_common-1.1.28-py2.py3-none-any.whl (14 kB)\n",
            "Collecting isodate<1.0.0,>=0.6.1 (from azure-ai-textanalytics)\n",
            "  Downloading isodate-0.6.1-py2.py3-none-any.whl (41 kB)\n",
            "\u001b[2K     \u001b[90m━━━━━━━━━━━━━━━━━━━━━━━━━━━━━━━━━━━━━━━━\u001b[0m \u001b[32m41.7/41.7 kB\u001b[0m \u001b[31m3.5 MB/s\u001b[0m eta \u001b[36m0:00:00\u001b[0m\n",
            "\u001b[?25hRequirement already satisfied: typing-extensions>=4.0.1 in /usr/local/lib/python3.10/dist-packages (from azure-ai-textanalytics) (4.10.0)\n",
            "Requirement already satisfied: requests>=2.21.0 in /usr/local/lib/python3.10/dist-packages (from azure-core<2.0.0,>=1.24.0->azure-ai-textanalytics) (2.31.0)\n",
            "Requirement already satisfied: six>=1.11.0 in /usr/local/lib/python3.10/dist-packages (from azure-core<2.0.0,>=1.24.0->azure-ai-textanalytics) (1.16.0)\n",
            "Requirement already satisfied: charset-normalizer<4,>=2 in /usr/local/lib/python3.10/dist-packages (from requests>=2.21.0->azure-core<2.0.0,>=1.24.0->azure-ai-textanalytics) (3.3.2)\n",
            "Requirement already satisfied: idna<4,>=2.5 in /usr/local/lib/python3.10/dist-packages (from requests>=2.21.0->azure-core<2.0.0,>=1.24.0->azure-ai-textanalytics) (3.6)\n",
            "Requirement already satisfied: urllib3<3,>=1.21.1 in /usr/local/lib/python3.10/dist-packages (from requests>=2.21.0->azure-core<2.0.0,>=1.24.0->azure-ai-textanalytics) (2.0.7)\n",
            "Requirement already satisfied: certifi>=2017.4.17 in /usr/local/lib/python3.10/dist-packages (from requests>=2.21.0->azure-core<2.0.0,>=1.24.0->azure-ai-textanalytics) (2024.2.2)\n",
            "Installing collected packages: azure-common, isodate, azure-core, azure-ai-textanalytics\n",
            "Successfully installed azure-ai-textanalytics-5.3.0 azure-common-1.1.28 azure-core-1.30.1 isodate-0.6.1\n"
          ]
        }
      ]
    },
    {
      "cell_type": "code",
      "execution_count": null,
      "metadata": {
        "id": "lHCDjZ6waQpw"
      },
      "outputs": [],
      "source": [
        "import pandas as pd\n",
        "from azure.ai.textanalytics import TextAnalyticsClient\n",
        "from azure.core.credentials import AzureKeyCredential\n",
        "\n",
        "# Initialize Azure Text Analytics client\n",
        "endpoint = \"https://200573393.cognitiveservices.azure.com/\"\n",
        "key = \"1e9a05ac6f6240d9b2a67b8359485421\"\n",
        "text_analytics_client = TextAnalyticsClient(endpoint=endpoint, credential=AzureKeyCredential(key))\n",
        "\n",
        "# Read your dataset into a Pandas DataFrame\n",
        "df = pd.read_csv('customer_review.csv')  # Update the filename with your actual dataset\n",
        "\n",
        "# Function to analyze sentiment for each chunk of text\n",
        "def analyze_sentiment_chunks(text):\n",
        "    sentiments = []\n",
        "    confidence_scores = []\n",
        "    # Split text into chunks of 5,000 characters (to stay below the limit)\n",
        "    chunk_size = 5000\n",
        "    for i in range(0, len(text), chunk_size):\n",
        "        chunk = text[i:i + chunk_size]\n",
        "        language_result = text_analytics_client.detect_language(documents=[chunk])\n",
        "        language = language_result[0].primary_language.iso6391_name\n",
        "        response = text_analytics_client.analyze_sentiment(documents=[chunk], language=language)\n",
        "        sentiments.append(response[0].sentiment)\n",
        "        confidence_scores.append(response[0].confidence_scores)\n",
        "    return sentiments, confidence_scores\n",
        "\n",
        "# Apply sentiment analysis function to each row in DataFrame\n",
        "sentiments = []\n",
        "confidence_scores = []\n",
        "\n",
        "for text in df['sentiment']:\n",
        "    sentiment_chunks, scores_chunks = analyze_sentiment_chunks(text)\n",
        "    sentiments.append(sentiment_chunks)\n",
        "    confidence_scores.append(scores_chunks)\n",
        "\n",
        "df['sentiment'] = sentiments\n",
        "df['confidence_scores'] = confidence_scores\n",
        "\n",
        "# Print DataFrame with sentiment analysis results\n",
        "print(df)\n"
      ]
    }
  ]
}